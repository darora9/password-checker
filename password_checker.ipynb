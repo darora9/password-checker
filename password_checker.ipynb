{
  "nbformat": 4,
  "nbformat_minor": 0,
  "metadata": {
    "colab": {
      "provenance": [],
      "authorship_tag": "ABX9TyPbeCkmiCW9QAU4geFnLV0q",
      "include_colab_link": true
    },
    "kernelspec": {
      "name": "python3",
      "display_name": "Python 3"
    },
    "language_info": {
      "name": "python"
    }
  },
  "cells": [
    {
      "cell_type": "markdown",
      "metadata": {
        "id": "view-in-github",
        "colab_type": "text"
      },
      "source": [
        "<a href=\"https://colab.research.google.com/github/darora9/password-checker/blob/main/password_checker.ipynb\" target=\"_parent\"><img src=\"https://colab.research.google.com/assets/colab-badge.svg\" alt=\"Open In Colab\"/></a>"
      ]
    },
    {
      "cell_type": "code",
      "source": [
        "\n",
        "def check_password_validation(password):\n",
        "  lowercase=False\n",
        "  uppercase=False\n",
        "  numerical=False\n",
        "  special=False\n",
        "\n",
        "  for i in password:\n",
        "    if i.islower():\n",
        "      lowercase=True\n",
        "\n",
        "    elif i.isupper():\n",
        "      uppercase=True\n",
        "\n",
        "    elif i.isdigit():\n",
        "      numerical=True\n",
        "\n",
        "    elif i in ['$','#','@']:\n",
        "      special=True\n",
        "\n",
        "  if lowercase and uppercase and numerical and special and len(password)<=16 and len(password)>=6:\n",
        "    return True\n",
        "\n",
        "  else:\n",
        "    return False\n",
        "\n",
        "\n",
        "password=input(\"enter the password: \")\n",
        "\n",
        "if check_password_validation(password):\n",
        "  print(\"true\")\n",
        "else:\n",
        "  print(\"false\")\n",
        "\n",
        "\n",
        "\n",
        "\n",
        "\n"
      ],
      "metadata": {
        "id": "XgndcPIkWfY-",
        "colab": {
          "base_uri": "https://localhost:8080/"
        },
        "outputId": "432eb9b1-6f4e-404c-b410-cf55194b7f39"
      },
      "execution_count": 9,
      "outputs": [
        {
          "output_type": "stream",
          "name": "stdout",
          "text": [
            "enter the password: @1Luminous\n",
            "true\n"
          ]
        }
      ]
    }
  ]
}